{
 "cells": [
  {
   "cell_type": "markdown",
   "metadata": {},
   "source": [
    "# spaCy Intro"
   ]
  },
  {
   "cell_type": "code",
   "execution_count": 130,
   "metadata": {},
   "outputs": [
    {
     "name": "stdout",
     "output_type": "stream",
     "text": [
      "Apple PROPN nsubj\n",
      "is AUX aux\n",
      "looking VERB ROOT\n",
      "at ADP prep\n",
      "buying VERB pcomp\n",
      "U.K. PROPN compound\n",
      "startup NOUN dobj\n",
      "for ADP prep\n",
      "$ SYM quantmod\n",
      "1 NUM compound\n",
      "billion NUM pobj\n"
     ]
    }
   ],
   "source": [
    "import spacy\n",
    "\n",
    "nlp = spacy.load(\"en_core_web_md\")\n",
    "doc = nlp(\"Apple is looking at buying U.K. startup for $1 billion\")\n",
    "for token in doc:\n",
    "    print(token.text, token.pos_, token.dep_)"
   ]
  },
  {
   "cell_type": "code",
   "execution_count": 131,
   "metadata": {},
   "outputs": [
    {
     "name": "stdout",
     "output_type": "stream",
     "text": [
      "Apple 0 5 ORG\n",
      "U.K. 27 31 GPE\n",
      "$1 billion 44 54 MONEY\n"
     ]
    }
   ],
   "source": [
    "for ent in doc.ents:\n",
    "    print(ent.text, ent.start_char, ent.end_char, ent.label_)"
   ]
  },
  {
   "cell_type": "code",
   "execution_count": 132,
   "metadata": {},
   "outputs": [
    {
     "name": "stdout",
     "output_type": "stream",
     "text": [
      "dog True 7.0336733 False\n",
      "cat True 6.6808186 False\n",
      "banana True 6.700014 False\n",
      "afskfsd False 0.0 True\n"
     ]
    }
   ],
   "source": [
    "tokens = nlp(\"dog cat banana afskfsd\")\n",
    "\n",
    "for token in tokens:\n",
    "    print(token.text, token.has_vector, token.vector_norm, token.is_oov)"
   ]
  },
  {
   "cell_type": "markdown",
   "metadata": {},
   "source": [
    "## Similarity"
   ]
  },
  {
   "cell_type": "code",
   "execution_count": 133,
   "metadata": {},
   "outputs": [
    {
     "name": "stdout",
     "output_type": "stream",
     "text": [
      "dog dog 1.0\n",
      "dog cat 0.80168545\n",
      "dog banana 0.24327648\n",
      "cat dog 0.80168545\n",
      "cat cat 1.0\n",
      "cat banana 0.28154367\n",
      "banana dog 0.24327648\n",
      "banana cat 0.28154367\n",
      "banana banana 1.0\n"
     ]
    }
   ],
   "source": [
    "tokens = nlp(\"dog cat banana\")\n",
    "\n",
    "for token1 in tokens:\n",
    "    for token2 in tokens:\n",
    "        print(token1.text, token2.text, token1.similarity(token2))"
   ]
  },
  {
   "cell_type": "code",
   "execution_count": 134,
   "metadata": {},
   "outputs": [],
   "source": [
    "nyg_article = '''New York Giants defensive lineman Leonard Williams finished the best season of his NFL career by being named NFC Defensive Player of the Week for his dominant effort Sunday against the Dallas Cowboys.\n",
    "\n",
    "Williams had three sacks, five additional pressures, three tackles for loss and six total stops against Dallas, along with a pass defensed in the Giants’ 23-19 victory.\n",
    "\n",
    "Williams also won the Defensive Player of the Week honor after a 2.5-sack game against the Seattle Seahawks.\n",
    "\n",
    "The six-year veteran finished with 11.5 sacks, the first double-digit sack season of his career. Williams’ total is the most by a Giant since Jason Pierre-Paul had 14.5 in 2014.\n",
    "\n",
    "The Giants finished the season with 40 sacks, their highest total since they had 47 in 2014.\n",
    "\n",
    "I also like the Dallas Stars.\n",
    "\n",
    "Williams is heading to free agency after playing the 2020 season on the franchise tag. Best guess is he will be looking for a contract that will put him in the top 10 among defensive linemen, which means an average annual value of at least $17.5 million.'''"
   ]
  },
  {
   "cell_type": "code",
   "execution_count": 153,
   "metadata": {
    "scrolled": true
   },
   "outputs": [
    {
     "name": "stdout",
     "output_type": "stream",
     "text": [
      "Dallas Cowboys 185 199 ORG\n",
      "three 215 220 CARDINAL\n",
      "five 228 232 CARDINAL\n",
      "three 255 260 CARDINAL\n",
      "six 282 285 CARDINAL\n",
      "Dallas 306 312 GPE\n",
      "Giants 348 354 ORG\n",
      "23 356 358 CARDINAL\n",
      "Seattle Seahawks 463 479 ORG\n",
      "six-year 486 494 DATE\n",
      "11.5 517 521 CARDINAL\n",
      "first 533 538 ORDINAL\n",
      "Jason Pierre-Paul 624 641 PERSON\n",
      "14.5 646 650 CARDINAL\n",
      "2014 654 658 DATE\n",
      "Giants 665 671 ORG\n",
      "40 697 699 CARDINAL\n",
      "47 742 744 CARDINAL\n",
      "2014 748 752 DATE\n",
      "Dallas Stars 771 783 ORG\n",
      "10 950 952 CARDINAL\n",
      "at least $17.5 million 1017 1039 MONEY\n"
     ]
    }
   ],
   "source": [
    "nyg_tokens = nlp(nyg_article)\n",
    "\n",
    "for ent in nyg_tokens.ents:\n",
    "    print(ent.text, ent.start_char, ent.end_char, ent.label_)"
   ]
  },
  {
   "cell_type": "code",
   "execution_count": 94,
   "metadata": {
    "scrolled": true
   },
   "outputs": [
    {
     "data": {
      "text/plain": [
       "New York Giants"
      ]
     },
     "execution_count": 94,
     "metadata": {},
     "output_type": "execute_result"
    }
   ],
   "source": [
    "nyg_tokens.ents[0]"
   ]
  },
  {
   "cell_type": "code",
   "execution_count": 107,
   "metadata": {},
   "outputs": [],
   "source": [
    "train_data = [\n",
    "(\"New York Giants defensive lineman Leonard Williams finished the best season of his NFL career by being named NFC Defensive Player of the Week for his dominant effort Sunday against the Dallas Cowboys.\", {\"entities\": [(185,199, \"ORG\")]}),\n",
    "(\"The Dallas Cowboys did not make the playoffs\", {\"entities\": [(4,18, \"ORG\")]}),\n",
    "(\"When will the Dallas Cowboys learn\", {\"entities\": [(14,28, \"ORG\")]})\n",
    "]"
   ]
  },
  {
   "cell_type": "code",
   "execution_count": 100,
   "metadata": {},
   "outputs": [],
   "source": [
    "unlabeled_text = [\"New York Giants defensive lineman Leonard Williams finished the best season of his NFL career by being named NFC Defensive Player of the Week for his dominant effort Sunday against the Dallas Cowboys.\",\n",
    "                  \"The Dallas Cowboys did not make the playoffs\",\n",
    "                  \"When will the Dallas Cowboys learn\"]    \n",
    "\n",
    "\n"
   ]
  },
  {
   "cell_type": "code",
   "execution_count": 143,
   "metadata": {},
   "outputs": [
    {
     "data": {
      "text/plain": [
       "[('The Dallas Cowboys defensive lineman Leonard Williams finished the best season of his NFL career by being named NFC Defensive Player of the Week for his dominant effort Sunday against the Dallas Cowboys.',\n",
       "  {'entities': [(4, 18, 'Org'), (188, 202, 'Org')]})]"
      ]
     },
     "execution_count": 143,
     "metadata": {},
     "output_type": "execute_result"
    }
   ],
   "source": [
    "sentences = [\"The Dallas Cowboys defensive lineman Leonard Williams finished the best season of his NFL career by being named NFC Defensive Player of the Week for his dominant effort Sunday against the Dallas Cowboys.\"]\n",
    "ent = \"Dallas Cowboys\"\n",
    "label = \"Org\"\n",
    "\n",
    "matches = [(sentence, \n",
    "            {\"entities\":\n",
    "                       [(match.start(), match.end(), label) \n",
    "                        for match in re.finditer(ent, sentence)]}) \n",
    "           for sentence in sentences]\n",
    "matches"
   ]
  },
  {
   "cell_type": "markdown",
   "metadata": {},
   "source": [
    "Create a function that finds that start and stop position of a regular expression to create data labels."
   ]
  },
  {
   "cell_type": "code",
   "execution_count": 144,
   "metadata": {
    "scrolled": true
   },
   "outputs": [
    {
     "data": {
      "text/plain": [
       "[('The Dallas Cowboys defensive lineman Leonard Williams finished the best season of his NFL career by being named NFC Defensive Player of the Week for his dominant effort Sunday against the Dallas Cowboys.',\n",
       "  {'entities': [(4, 18, 'Org'), (188, 202, 'Org')]})]"
      ]
     },
     "execution_count": 144,
     "metadata": {},
     "output_type": "execute_result"
    }
   ],
   "source": [
    "def label_sentences(sentences, ent, label):\n",
    "        \n",
    "    labeled_sentences = [(sentence, \n",
    "                          {\"entities\":\n",
    "                           [(match.start(), match.end(), label) \n",
    "                            for match in re.finditer(ent, sentence)]}) \n",
    "                         for sentence in sentences]\n",
    "    return labeled_sentences\n",
    "        \n",
    "    \n",
    "\n",
    "label_sentences(sentences, ent, label)\n"
   ]
  },
  {
   "cell_type": "code",
   "execution_count": 146,
   "metadata": {},
   "outputs": [
    {
     "data": {
      "text/plain": [
       "[('New York Giants defensive lineman Leonard Williams finished the best season of his NFL career by being named NFC Defensive Player of the Week for his dominant effort Sunday against the Dallas Cowboys.',\n",
       "  {'entities': [(185, 199, 'ORG')]}),\n",
       " ('The Dallas Cowboys did not make the playoffs',\n",
       "  {'entities': [(4, 18, 'ORG')]}),\n",
       " ('When will the Dallas Cowboys learn', {'entities': [(14, 28, 'ORG')]})]"
      ]
     },
     "execution_count": 146,
     "metadata": {},
     "output_type": "execute_result"
    }
   ],
   "source": [
    "test_labeled_data = label_sentences(unlabeled_text, ent, \"ORG\")\n",
    "test_labeled_data"
   ]
  },
  {
   "cell_type": "code",
   "execution_count": 147,
   "metadata": {
    "scrolled": true
   },
   "outputs": [
    {
     "data": {
      "text/plain": [
       "False"
      ]
     },
     "execution_count": 147,
     "metadata": {},
     "output_type": "execute_result"
    }
   ],
   "source": [
    "test_labeled_data == train_data"
   ]
  },
  {
   "cell_type": "markdown",
   "metadata": {},
   "source": [
    "## Update NER Model"
   ]
  },
  {
   "cell_type": "code",
   "execution_count": 148,
   "metadata": {},
   "outputs": [],
   "source": [
    "ner = nlp.get_pipe('ner')"
   ]
  },
  {
   "cell_type": "code",
   "execution_count": 149,
   "metadata": {},
   "outputs": [],
   "source": [
    "optimizer = nlp.entity.create_optimizer()"
   ]
  },
  {
   "cell_type": "code",
   "execution_count": 150,
   "metadata": {},
   "outputs": [],
   "source": [
    "other_pipes = [pipe for pipe in nlp.pipe_names if pipe != 'ner']"
   ]
  },
  {
   "cell_type": "code",
   "execution_count": 151,
   "metadata": {},
   "outputs": [
    {
     "name": "stdout",
     "output_type": "stream",
     "text": [
      "Losses {'ner': 18.006737530231476}\n",
      "Losses {'ner': 14.538374602794647}\n",
      "Losses {'ner': 15.33916187286377}\n",
      "Losses {'ner': 17.33237385749817}\n",
      "Losses {'ner': 13.108849048614502}\n",
      "Losses {'ner': 12.376362681388855}\n",
      "Losses {'ner': 4.871224594360683}\n",
      "Losses {'ner': 9.965931415557861}\n",
      "Losses {'ner': 5.838792573660612}\n",
      "Losses {'ner': 8.780683264136314}\n",
      "Losses {'ner': 4.55295510738506}\n",
      "Losses {'ner': 3.2855260060687215}\n",
      "Losses {'ner': 0.9110950720496476}\n",
      "Losses {'ner': 0.05860983821821719}\n",
      "Losses {'ner': 2.3525918616670083}\n",
      "Losses {'ner': 0.6757902671224656}\n",
      "Losses {'ner': 1.4689184177861705}\n",
      "Losses {'ner': 0.30657236148454103}\n",
      "Losses {'ner': 1.4869060846461934}\n",
      "Losses {'ner': 0.004045578414945794}\n",
      "Losses {'ner': 0.10561149495765676}\n",
      "Losses {'ner': 0.704708021359238}\n",
      "Losses {'ner': 0.00020388278187510878}\n",
      "Losses {'ner': 0.044088090775574074}\n",
      "Losses {'ner': 0.12327467191153119}\n",
      "Losses {'ner': 0.085254795008332}\n",
      "Losses {'ner': 0.0020068665102201955}\n",
      "Losses {'ner': 0.0003760322191510568}\n",
      "Losses {'ner': 2.5544259762533272e-05}\n",
      "Losses {'ner': 0.0013327668322249409}\n"
     ]
    }
   ],
   "source": [
    "import random\n",
    "from spacy.util import minibatch, compounding\n",
    "from pathlib import Path\n",
    "\n",
    "n_iter = 30\n",
    "\n",
    "with nlp.disable_pipes(*other_pipes):  # only train NER\n",
    "    for itn in range(n_iter):\n",
    "        random.shuffle(train_data)\n",
    "        losses = {}\n",
    "        batches = minibatch(train_data, \n",
    "                            size=compounding(4., 32., 1.001))\n",
    "        for batch in batches:\n",
    "            texts, annotations = zip(*batch) \n",
    "            # Updating the weights\n",
    "            nlp.update(texts, annotations, sgd=optimizer, \n",
    "                       drop=0.35, losses=losses)\n",
    "            print('Losses', losses)\n",
    "           "
   ]
  },
  {
   "cell_type": "code",
   "execution_count": 152,
   "metadata": {},
   "outputs": [
    {
     "name": "stdout",
     "output_type": "stream",
     "text": [
      "Entities [('Dallas Cowboys', 'ORG'), ('Dallas', 'GPE'), ('Dallas', 'GPE'), ('Dallas Stars', 'ORG')]\n"
     ]
    }
   ],
   "source": [
    "test_doc = nlp(\"The Dallas Cowboys are the worst team in Dallas.  The other Dallas team is the Dallas Stars\")\n",
    "print(\"Entities\", [(ent.text, ent.label_) for ent in test_doc.ents])"
   ]
  },
  {
   "cell_type": "code",
   "execution_count": 154,
   "metadata": {},
   "outputs": [
    {
     "data": {
      "text/plain": [
       "WindowsPath('/content')"
      ]
     },
     "execution_count": 154,
     "metadata": {},
     "output_type": "execute_result"
    }
   ],
   "source": [
    "output_dir = Path('/content/')\n",
    "output_dir"
   ]
  },
  {
   "cell_type": "code",
   "execution_count": 162,
   "metadata": {},
   "outputs": [
    {
     "data": {
      "text/plain": [
       "'C:\\\\Users\\\\nickr\\\\Documents\\\\Projects\\\\NLP\\\\spacy'"
      ]
     },
     "execution_count": 162,
     "metadata": {},
     "output_type": "execute_result"
    }
   ],
   "source": [
    "import os\n",
    "os.getcwd()"
   ]
  },
  {
   "cell_type": "code",
   "execution_count": 187,
   "metadata": {},
   "outputs": [],
   "source": [
    "import os \n",
    "  \n",
    "# Directory \n",
    "directory = \"content\\\\team_model\"\n",
    "  \n",
    "# Parent Directory path \n",
    "parent_dir = os.getcwd()\n",
    "parent_dir  \n",
    "# Path \n",
    "output_dir = os.path.join(parent_dir, directory) \n",
    "  \n",
    "# Create the directory \n",
    "# 'GeeksForGeeks' in \n",
    "# '/home / User / Documents' \n",
    "os.makedirs(output_dir) "
   ]
  },
  {
   "cell_type": "code",
   "execution_count": 184,
   "metadata": {},
   "outputs": [
    {
     "data": {
      "text/plain": [
       "'C:\\\\Users\\\\nickr\\\\Documents\\\\Projects\\\\NLP\\\\spacy\\\\content/team_model'"
      ]
     },
     "execution_count": 184,
     "metadata": {},
     "output_type": "execute_result"
    }
   ],
   "source": [
    "os.path.join(parent_dir, \"content/team_model\") "
   ]
  },
  {
   "cell_type": "code",
   "execution_count": 178,
   "metadata": {},
   "outputs": [
    {
     "data": {
      "text/plain": [
       "'C:\\\\content\\\\team_model'"
      ]
     },
     "execution_count": 178,
     "metadata": {},
     "output_type": "execute_result"
    }
   ],
   "source": [
    "output_dir\n",
    "directory = \"\\\\content\\\\team_model\"\n",
    "os.path.join(parent_dir, directory) "
   ]
  },
  {
   "cell_type": "code",
   "execution_count": 188,
   "metadata": {},
   "outputs": [
    {
     "name": "stdout",
     "output_type": "stream",
     "text": [
      "Saved model to C:\\Users\\nickr\\Documents\\Projects\\NLP\\spacy\\content\\team_model\n",
      "Loading from C:\\Users\\nickr\\Documents\\Projects\\NLP\\spacy\\content\\team_model\n",
      "Entities [('Dallas Cowboys', 'ORG'), ('three', 'CARDINAL'), ('five', 'CARDINAL'), ('three', 'CARDINAL'), ('six', 'CARDINAL'), ('Dallas', 'GPE'), ('Giants', 'ORG'), ('23', 'CARDINAL'), ('Seattle Seahawks', 'ORG'), ('six-year', 'DATE'), ('11.5', 'CARDINAL'), ('first', 'ORDINAL'), ('Jason Pierre-Paul', 'PERSON'), ('14.5', 'CARDINAL'), ('2014', 'DATE'), ('Giants', 'ORG'), ('40', 'CARDINAL'), ('47', 'CARDINAL'), ('2014', 'DATE'), ('Dallas Stars', 'ORG'), ('10', 'CARDINAL'), ('at least $17.5 million', 'MONEY')]\n"
     ]
    }
   ],
   "source": [
    "# Save the  model to directory\n",
    "# output_dir = './content/team_model'\n",
    "nlp.to_disk(output_dir)\n",
    "print(\"Saved model to\", output_dir)\n",
    "\n",
    "# Load the saved model and predict\n",
    "print(\"Loading from\", output_dir)\n",
    "nlp_updated = spacy.load(output_dir)\n",
    "doc = nlp_updated(nyg_article)\n",
    "print(\"Entities\", [(ent.text, ent.label_) for ent in doc.ents])"
   ]
  }
 ],
 "metadata": {
  "kernelspec": {
   "display_name": "Python [conda env:spacy_223]",
   "language": "python",
   "name": "conda-env-spacy_223-py"
  },
  "language_info": {
   "codemirror_mode": {
    "name": "ipython",
    "version": 3
   },
   "file_extension": ".py",
   "mimetype": "text/x-python",
   "name": "python",
   "nbconvert_exporter": "python",
   "pygments_lexer": "ipython3",
   "version": "3.8.5"
  }
 },
 "nbformat": 4,
 "nbformat_minor": 4
}
