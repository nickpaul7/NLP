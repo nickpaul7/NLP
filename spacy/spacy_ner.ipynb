{
 "cells": [
  {
   "cell_type": "markdown",
   "metadata": {},
   "source": [
    "# spaCy NER Intro"
   ]
  },
  {
   "cell_type": "code",
   "execution_count": 385,
   "metadata": {},
   "outputs": [
    {
     "name": "stdout",
     "output_type": "stream",
     "text": [
      "['tagger', 'parser', 'ner']\n"
     ]
    }
   ],
   "source": [
    "import spacy\n",
    "\n",
    "nlp = spacy.load(\"en_core_web_md\")\n",
    "print(nlp.pipe_names)"
   ]
  },
  {
   "cell_type": "markdown",
   "metadata": {},
   "source": [
    "## spaCy Tokenizer"
   ]
  },
  {
   "cell_type": "code",
   "execution_count": 386,
   "metadata": {},
   "outputs": [
    {
     "name": "stdout",
     "output_type": "stream",
     "text": [
      "Apple PROPN nsubj\n",
      "is AUX aux\n",
      "looking VERB ROOT\n",
      "at ADP prep\n",
      "buying VERB pcomp\n",
      "U.K. PROPN compound\n",
      "startup NOUN dobj\n",
      "for ADP prep\n",
      "$ SYM quantmod\n",
      "1 NUM compound\n",
      "billion NUM pobj\n"
     ]
    }
   ],
   "source": [
    "doc = nlp(\"Apple is looking at buying U.K. startup for $1 billion\")\n",
    "for token in doc:\n",
    "    print(token.text, token.pos_, token.dep_)"
   ]
  },
  {
   "cell_type": "markdown",
   "metadata": {},
   "source": [
    "## spaCy NER"
   ]
  },
  {
   "cell_type": "code",
   "execution_count": 387,
   "metadata": {},
   "outputs": [
    {
     "name": "stdout",
     "output_type": "stream",
     "text": [
      "Apple 0 5 ORG\n",
      "U.K. 27 31 GPE\n",
      "$1 billion 44 54 MONEY\n"
     ]
    }
   ],
   "source": [
    "for ent in doc.ents:\n",
    "    print(ent.text, ent.start_char, ent.end_char, ent.label_)"
   ]
  },
  {
   "cell_type": "markdown",
   "metadata": {},
   "source": [
    "Let's see how the pre-trained model does on pulling entities fromt his recent article about the Giants Leonard Williams."
   ]
  },
  {
   "cell_type": "code",
   "execution_count": 388,
   "metadata": {},
   "outputs": [],
   "source": [
    "nyg_article = '''New York Giants defensive lineman Leonard Williams finished the best season of his NFL career by being named NFC Defensive Player of the Week for his dominant effort Sunday against the Dallas Cowboys.\n",
    "\n",
    "Williams had three sacks, five additional pressures, three tackles for loss and six total stops against Dallas, along with a pass defensed in the Giants’ 23-19 victory.\n",
    "\n",
    "Williams also won the Defensive Player of the Week honor after a 2.5-sack game against the Seattle Seahawks.\n",
    "\n",
    "The six-year veteran finished with 11.5 sacks, the first double-digit sack season of his career. Williams’ total is the most by a Giant since Jason Pierre-Paul had 14.5 in 2014.\n",
    "\n",
    "The Giants finished the season with 40 sacks, their highest total since they had 47 in 2014.\n",
    "\n",
    "I also like the Dallas Stars.\n",
    "\n",
    "Williams is heading to free agency after playing the 2020 season on the franchise tag. Best guess is he will be looking for a contract that will put him in the top 10 among defensive linemen, which means an average annual value of at least $17.5 million.'''"
   ]
  },
  {
   "cell_type": "code",
   "execution_count": 389,
   "metadata": {
    "scrolled": true
   },
   "outputs": [
    {
     "name": "stdout",
     "output_type": "stream",
     "text": [
      "New York Giants 0 15 ORG\n",
      "Leonard Williams 34 50 PERSON\n",
      "NFL 83 86 ORG\n",
      "NFC 109 112 ORG\n",
      "the Week 133 141 DATE\n",
      "Sunday 166 172 DATE\n",
      "Dallas 185 191 GPE\n",
      "Cowboys 192 199 ORG\n",
      "Williams 202 210 PERSON\n",
      "three 215 220 CARDINAL\n",
      "five 228 232 CARDINAL\n",
      "three 255 260 CARDINAL\n",
      "six 282 285 CARDINAL\n",
      "Dallas 306 312 GPE\n",
      "Giants 348 354 ORG\n",
      "23 356 358 CARDINAL\n",
      "Williams 372 380 PERSON\n",
      "2.5-sack 437 445 QUANTITY\n",
      "the Seattle Seahawks 459 479 ORG\n",
      "six-year 486 494 DATE\n",
      "11.5 517 521 CARDINAL\n",
      "first 533 538 ORDINAL\n",
      "Williams 579 587 PERSON\n",
      "Giant 612 617 ORG\n",
      "Jason Pierre-Paul 624 641 PERSON\n",
      "14.5 646 650 CARDINAL\n",
      "2014 654 658 DATE\n",
      "Giants 665 671 ORG\n",
      "season 685 691 DATE\n",
      "40 697 699 CARDINAL\n",
      "47 742 744 CARDINAL\n",
      "2014 748 752 DATE\n",
      "Dallas 771 777 GPE\n",
      "Williams 786 794 PERSON\n",
      "the 2020 season 835 850 DATE\n",
      "10 950 952 CARDINAL\n",
      "annual 1001 1007 DATE\n",
      "at least $17.5 million 1017 1039 MONEY\n"
     ]
    }
   ],
   "source": [
    "nyg_tokens = nlp(nyg_article)\n",
    "\n",
    "for ent in nyg_tokens.ents:\n",
    "    print(ent.text, ent.start_char, ent.end_char, ent.label_)"
   ]
  },
  {
   "cell_type": "markdown",
   "metadata": {},
   "source": [
    "The pre-trained model does fairly well, identifying several key entities: Leonard Williams, New York Giants, Cowboys.\n",
    "    \n",
    "It did however, inconsistently label team names: New York Giants and Cowboys without the city being included.\n",
    "    \n",
    "   Let's see if we can update to the model to overcome this issue. "
   ]
  },
  {
   "cell_type": "markdown",
   "metadata": {},
   "source": [
    "## Creating Training Data"
   ]
  },
  {
   "cell_type": "markdown",
   "metadata": {},
   "source": [
    "In order to update our model, we will need labeled examples of the pattern we want the model to identify."
   ]
  },
  {
   "cell_type": "markdown",
   "metadata": {},
   "source": [
    "### Training Data Format"
   ]
  },
  {
   "cell_type": "markdown",
   "metadata": {},
   "source": [
    "spaCy expects training data to be in the form below."
   ]
  },
  {
   "cell_type": "code",
   "execution_count": 415,
   "metadata": {},
   "outputs": [],
   "source": [
    "train_data = [\n",
    "(\"New York Giants defensive lineman Leonard Williams finished the best season of his NFL career by being named NFC Defensive Player of the Week for his dominant effort Sunday against the Dallas Cowboys.\", \n",
    " {\"entities\": \n",
    "  [(185,199, \"ORG\")]}),\n",
    "(\"The Dallas Cowboys did not make the playoffs.\", \n",
    " {\"entities\": \n",
    "  [(4,18, \"ORG\")]}),(\"When will the Dallas Cowboys learn.\", \n",
    " {\"entities\": \n",
    "  [(14,28, \"ORG\")]}),\n",
    "(\"I am betting on the Cowboys this weekend\",\n",
    " {\"entities\": \n",
    "  [(20,27,\"ORG\")]}),\n",
    "   (\"Williams is heading to free agency after playing the 2020 season on the franchise tag.\",{\n",
    "        \"entities\":[]})\n",
    "]"
   ]
  },
  {
   "cell_type": "markdown",
   "metadata": {},
   "source": [
    "Note: We added an entry where williams was referenced by his last name only.  When we ran this small number of examples through only updating ORG, it started overfitting to Williams as a ORG.  In reallity, this is just too few examples to update the model."
   ]
  },
  {
   "cell_type": "markdown",
   "metadata": {},
   "source": [
    "I labeled this data by hand, but in some situations we may be able to create labeled data using a regular expression.  Let's give it a try.\n",
    "\n",
    "Let's start with out sentences in a list."
   ]
  },
  {
   "cell_type": "code",
   "execution_count": 416,
   "metadata": {},
   "outputs": [
    {
     "data": {
      "text/plain": [
       "['New York Giants defensive lineman Leonard Williams finished the best season of his NFL career by being named NFC Defensive Player of the Week for his dominant effort Sunday against the Dallas Cowboys.',\n",
       " 'The Dallas Cowboys did not make the playoffs.',\n",
       " 'When will the Dallas Cowboys learn.',\n",
       " 'I am betting on the Cowboys this weekend',\n",
       " 'Williams is heading to free agency after playing the 2020 season on the franchise tag.']"
      ]
     },
     "execution_count": 416,
     "metadata": {},
     "output_type": "execute_result"
    }
   ],
   "source": [
    "unlabeled_text = [x[0] for x in train_data]\n",
    "unlabeled_text"
   ]
  },
  {
   "cell_type": "markdown",
   "metadata": {},
   "source": [
    "### Toy Problem"
   ]
  },
  {
   "cell_type": "code",
   "execution_count": 417,
   "metadata": {},
   "outputs": [
    {
     "data": {
      "text/plain": [
       "[('The Dallas Cowboys defensive lineman Leonard Williams finished the best season of his NFL career by being named NFC Defensive Player of the Week for his dominant effort Sunday against the Dallas Cowboys.',\n",
       "  {'entities': [(4, 18, 'Org'), (188, 202, 'Org')]})]"
      ]
     },
     "execution_count": 417,
     "metadata": {},
     "output_type": "execute_result"
    }
   ],
   "source": [
    "# we changed the first sentence to be dallas cowboys; \n",
    "#     this ensures we find an entity if it occurs twice\n",
    "sentences = [\"The Dallas Cowboys defensive lineman Leonard Williams finished the best season of his NFL career by being named NFC Defensive Player of the Week for his dominant effort Sunday against the Dallas Cowboys.\"]\n",
    "ent = \"Dallas Cowboys|Cowboys\"\n",
    "label = \"Org\"\n",
    "\n",
    "matches = [(sentence, \n",
    "            {\"entities\":\n",
    "                       [(match.start(), match.end(), label) \n",
    "                        for match in re.finditer(ent, sentence)]}) \n",
    "           for sentence in sentences]\n",
    "matches"
   ]
  },
  {
   "cell_type": "markdown",
   "metadata": {},
   "source": [
    "### Create a Function to Label Examples"
   ]
  },
  {
   "cell_type": "markdown",
   "metadata": {},
   "source": [
    "Create a function that finds that start and stop position of a regular expression to create data labels."
   ]
  },
  {
   "cell_type": "code",
   "execution_count": 418,
   "metadata": {
    "scrolled": true
   },
   "outputs": [
    {
     "data": {
      "text/plain": [
       "[('The Dallas Cowboys defensive lineman Leonard Williams finished the best season of his NFL career by being named NFC Defensive Player of the Week for his dominant effort Sunday against the Dallas Cowboys.',\n",
       "  {'entities': [(4, 18, 'Org'), (188, 202, 'Org')]})]"
      ]
     },
     "execution_count": 418,
     "metadata": {},
     "output_type": "execute_result"
    }
   ],
   "source": [
    "def label_sentences(sentences, ent, label):\n",
    "        \n",
    "    labeled_sentences = [(sentence, \n",
    "                          {\"entities\":\n",
    "                           [(match.start(), match.end(), label) \n",
    "                            for match in re.finditer(ent, sentence)]}) \n",
    "                         for sentence in sentences]\n",
    "    return labeled_sentences\n",
    "        \n",
    "    \n",
    "\n",
    "label_sentences(sentences, ent, label)\n"
   ]
  },
  {
   "cell_type": "markdown",
   "metadata": {},
   "source": [
    "### Test Label Function"
   ]
  },
  {
   "cell_type": "code",
   "execution_count": 419,
   "metadata": {
    "scrolled": true
   },
   "outputs": [
    {
     "data": {
      "text/plain": [
       "[('New York Giants defensive lineman Leonard Williams finished the best season of his NFL career by being named NFC Defensive Player of the Week for his dominant effort Sunday against the Dallas Cowboys.',\n",
       "  {'entities': [(185, 199, 'ORG')]}),\n",
       " ('The Dallas Cowboys did not make the playoffs.',\n",
       "  {'entities': [(4, 18, 'ORG')]}),\n",
       " ('When will the Dallas Cowboys learn.', {'entities': [(14, 28, 'ORG')]}),\n",
       " ('I am betting on the Cowboys this weekend', {'entities': [(20, 27, 'ORG')]}),\n",
       " ('Williams is heading to free agency after playing the 2020 season on the franchise tag.',\n",
       "  {'entities': []})]"
      ]
     },
     "execution_count": 419,
     "metadata": {},
     "output_type": "execute_result"
    }
   ],
   "source": [
    "test_labeled_data = label_sentences(unlabeled_text, ent, \"ORG\")\n",
    "test_labeled_data"
   ]
  },
  {
   "cell_type": "code",
   "execution_count": 420,
   "metadata": {
    "scrolled": true
   },
   "outputs": [
    {
     "data": {
      "text/plain": [
       "True"
      ]
     },
     "execution_count": 420,
     "metadata": {},
     "output_type": "execute_result"
    }
   ],
   "source": [
    "test_labeled_data == train_data"
   ]
  },
  {
   "cell_type": "code",
   "execution_count": 421,
   "metadata": {},
   "outputs": [
    {
     "data": {
      "text/plain": [
       "[(37, 53, 'PERSON'),\n",
       " (86, 89, 'ORG'),\n",
       " (112, 115, 'ORG'),\n",
       " (136, 144, 'DATE'),\n",
       " (169, 175, 'DATE'),\n",
       " (184, 202, 'FAC')]"
      ]
     },
     "execution_count": 421,
     "metadata": {},
     "output_type": "execute_result"
    }
   ],
   "source": [
    "doc_test = nlp(sentences[0])\n",
    "\n",
    "current_labels = [(ent.start_char, ent.end_char, ent.label_) for ent in doc_test.ents if not ent.text in [\"Dallas\", \"Cowboys\"]]\n",
    "    \n",
    "current_labels"
   ]
  },
  {
   "cell_type": "code",
   "execution_count": 422,
   "metadata": {},
   "outputs": [],
   "source": [
    "final_labels = []\n",
    "\n",
    "for sentence in unlabeled_text:\n",
    "    doc_test = nlp(sentence)\n",
    "\n",
    "    current_labels = [(ent.start_char, ent.end_char, ent.label_) for ent in doc_test.ents if not ent.text in [\"Dallas\", \"Cowboys\"]]\n",
    "    \n",
    "    result = (sentence, \n",
    "            {\"entities\": current_labels})\n",
    "    \n",
    "    final_labels.append(result)"
   ]
  },
  {
   "cell_type": "code",
   "execution_count": 423,
   "metadata": {},
   "outputs": [
    {
     "data": {
      "text/plain": [
       "[('New York Giants defensive lineman Leonard Williams finished the best season of his NFL career by being named NFC Defensive Player of the Week for his dominant effort Sunday against the Dallas Cowboys.',\n",
       "  {'entities': [(0, 15, 'ORG'),\n",
       "    (34, 50, 'PERSON'),\n",
       "    (83, 86, 'ORG'),\n",
       "    (109, 112, 'ORG'),\n",
       "    (133, 141, 'DATE'),\n",
       "    (166, 172, 'DATE'),\n",
       "    (181, 199, 'FAC')]}),\n",
       " ('The Dallas Cowboys did not make the playoffs.', {'entities': []}),\n",
       " ('When will the Dallas Cowboys learn.', {'entities': []}),\n",
       " ('I am betting on the Cowboys this weekend',\n",
       "  {'entities': [(28, 40, 'DATE')]}),\n",
       " ('Williams is heading to free agency after playing the 2020 season on the franchise tag.',\n",
       "  {'entities': [(0, 8, 'PERSON'), (49, 64, 'DATE')]})]"
      ]
     },
     "execution_count": 423,
     "metadata": {},
     "output_type": "execute_result"
    }
   ],
   "source": [
    "final_labels"
   ]
  },
  {
   "cell_type": "code",
   "execution_count": 424,
   "metadata": {
    "scrolled": false
   },
   "outputs": [
    {
     "data": {
      "text/plain": [
       "[('New York Giants defensive lineman Leonard Williams finished the best season of his NFL career by being named NFC Defensive Player of the Week for his dominant effort Sunday against the Dallas Cowboys.',\n",
       "  {'entities': [(0, 15, 'ORG'),\n",
       "    (34, 50, 'PERSON'),\n",
       "    (83, 86, 'ORG'),\n",
       "    (109, 112, 'ORG'),\n",
       "    (133, 141, 'DATE'),\n",
       "    (166, 172, 'DATE'),\n",
       "    (181, 199, 'FAC'),\n",
       "    (185, 199, 'ORG')]}),\n",
       " ('The Dallas Cowboys did not make the playoffs.',\n",
       "  {'entities': [(4, 18, 'ORG')]}),\n",
       " ('When will the Dallas Cowboys learn.', {'entities': [(14, 28, 'ORG')]}),\n",
       " ('I am betting on the Cowboys this weekend',\n",
       "  {'entities': [(28, 40, 'DATE'), (20, 27, 'ORG')]}),\n",
       " ('Williams is heading to free agency after playing the 2020 season on the franchise tag.',\n",
       "  {'entities': [(0, 8, 'PERSON'), (49, 64, 'DATE')]})]"
      ]
     },
     "execution_count": 424,
     "metadata": {},
     "output_type": "execute_result"
    }
   ],
   "source": [
    "[final_labels[i][1]['entities'].extend(train_data[i][1]['entities']) for i in range(len(final_labels))]\n",
    "\n",
    "final_labels"
   ]
  },
  {
   "cell_type": "code",
   "execution_count": 425,
   "metadata": {},
   "outputs": [
    {
     "data": {
      "text/plain": [
       "[('New York Giants defensive lineman Leonard Williams finished the best season of his NFL career by being named NFC Defensive Player of the Week for his dominant effort Sunday against the Dallas Cowboys.',\n",
       "  {'entities': [(0, 15, 'ORG'),\n",
       "    (34, 50, 'PERSON'),\n",
       "    (83, 86, 'ORG'),\n",
       "    (109, 112, 'ORG'),\n",
       "    (133, 141, 'DATE'),\n",
       "    (166, 172, 'DATE'),\n",
       "    (185, 199, 'ORG')]}),\n",
       " ('The Dallas Cowboys did not make the playoffs.',\n",
       "  {'entities': [(4, 18, 'ORG')]}),\n",
       " ('When will the Dallas Cowboys learn.', {'entities': [(14, 28, 'ORG')]}),\n",
       " ('I am betting on the Cowboys this weekend',\n",
       "  {'entities': [(28, 40, 'DATE'), (20, 27, 'ORG')]}),\n",
       " ('Williams is heading to free agency after playing the 2020 season on the franchise tag.',\n",
       "  {'entities': [(0, 8, 'PERSON'), (49, 64, 'DATE')]})]"
      ]
     },
     "execution_count": 425,
     "metadata": {},
     "output_type": "execute_result"
    }
   ],
   "source": [
    "final_labels[0][1]['entities'].pop(6)\n",
    "final_labels"
   ]
  },
  {
   "cell_type": "code",
   "execution_count": 426,
   "metadata": {},
   "outputs": [],
   "source": [
    "train_data = final_labels"
   ]
  },
  {
   "cell_type": "markdown",
   "metadata": {},
   "source": [
    "## Update NER Model"
   ]
  },
  {
   "cell_type": "code",
   "execution_count": 427,
   "metadata": {},
   "outputs": [],
   "source": [
    "nlp_update = spacy.load(\"en_core_web_md\")\n",
    "ner = nlp_update.get_pipe('ner')"
   ]
  },
  {
   "cell_type": "code",
   "execution_count": 428,
   "metadata": {},
   "outputs": [],
   "source": [
    "optimizer = nlp_update.entity.create_optimizer()"
   ]
  },
  {
   "cell_type": "code",
   "execution_count": 429,
   "metadata": {},
   "outputs": [],
   "source": [
    "other_pipes = [pipe for pipe in nlp_update.pipe_names if pipe != 'ner']"
   ]
  },
  {
   "cell_type": "code",
   "execution_count": 430,
   "metadata": {},
   "outputs": [
    {
     "name": "stdout",
     "output_type": "stream",
     "text": [
      "Losses {'ner': 19.93783422850538}\n",
      "Losses {'ner': 21.999592515322462}\n",
      "Losses {'ner': 15.287014350295067}\n",
      "Losses {'ner': 18.386359574193975}\n",
      "Losses {'ner': 8.176636432763189}\n",
      "Losses {'ner': 12.995391554579891}\n",
      "Losses {'ner': 9.997786432504654}\n",
      "Losses {'ner': 12.718017380244474}\n",
      "Losses {'ner': 7.522971128491918}\n",
      "Losses {'ner': 10.323486998941867}\n",
      "Losses {'ner': 4.7784134699904826}\n",
      "Losses {'ner': 7.748930032512159}\n",
      "Losses {'ner': 5.092487674672157}\n",
      "Losses {'ner': 5.257104549390811}\n",
      "Losses {'ner': 4.365809489041567}\n",
      "Losses {'ner': 6.4774227751826015}\n",
      "Losses {'ner': 2.637667201110162}\n",
      "Losses {'ner': 2.9098194269142406}\n",
      "Losses {'ner': 1.058930950875947}\n",
      "Losses {'ner': 1.0595719018936134}\n",
      "Losses {'ner': 2.8254172340232344}\n",
      "Losses {'ner': 2.932186745800185}\n",
      "Losses {'ner': 1.3096429991181822}\n",
      "Losses {'ner': 1.5036012075539027}\n",
      "Losses {'ner': 0.0046084951327429735}\n",
      "Losses {'ner': 0.1314652077349314}\n",
      "Losses {'ner': 0.10067412133139442}\n",
      "Losses {'ner': 0.8919648306674282}\n",
      "Losses {'ner': 0.3539400098816259}\n",
      "Losses {'ner': 0.35394018407866107}\n",
      "Losses {'ner': 0.05039087386990104}\n",
      "Losses {'ner': 0.05084123416387735}\n",
      "Losses {'ner': 0.3020462509102799}\n",
      "Losses {'ner': 0.3047709204981769}\n",
      "Losses {'ner': 0.041781570625971653}\n",
      "Losses {'ner': 0.0417815869435606}\n",
      "Losses {'ner': 0.0012313452675485337}\n",
      "Losses {'ner': 0.0013562130734937079}\n",
      "Losses {'ner': 0.04487751846045285}\n",
      "Losses {'ner': 0.04488136735173075}\n",
      "Losses {'ner': 0.013195629014226995}\n",
      "Losses {'ner': 0.03369974237097624}\n",
      "Losses {'ner': 0.013318356067884451}\n",
      "Losses {'ner': 0.013319915137517922}\n",
      "Losses {'ner': 0.025831818347796798}\n",
      "Losses {'ner': 0.025855868460131288}\n",
      "Losses {'ner': 4.251868928406566e-05}\n",
      "Losses {'ner': 0.0012319323011613535}\n",
      "Losses {'ner': 0.005147605250726883}\n",
      "Losses {'ner': 0.0057424059245609746}\n",
      "Losses {'ner': 0.23984594659805225}\n",
      "Losses {'ner': 0.2401358345161836}\n",
      "Losses {'ner': 0.0010735242951369628}\n",
      "Losses {'ner': 0.0010735257897922241}\n",
      "Losses {'ner': 0.0013007512942664334}\n",
      "Losses {'ner': 0.025561514041999772}\n",
      "Losses {'ner': 0.0028614922968559497}\n",
      "Losses {'ner': 0.002861494840228175}\n",
      "Losses {'ner': 0.00012377033819710448}\n",
      "Losses {'ner': 0.00012379988537616432}\n"
     ]
    }
   ],
   "source": [
    "import random\n",
    "from spacy.util import minibatch, compounding\n",
    "from pathlib import Path\n",
    "\n",
    "n_iter = 30\n",
    "\n",
    "with nlp_update.disable_pipes(*other_pipes):  # only train NER\n",
    "    for itn in range(n_iter):\n",
    "        random.shuffle(train_data)\n",
    "        losses = {}\n",
    "        batches = minibatch(train_data, \n",
    "                            size=compounding(4., 32., 1.001))\n",
    "        for batch in batches:\n",
    "            texts, annotations = zip(*batch) \n",
    "            # Updating the weights\n",
    "            nlp_update.update(texts, annotations, sgd=optimizer, \n",
    "                       drop=0.35, losses=losses)\n",
    "            print('Losses', losses)\n",
    "           "
   ]
  },
  {
   "cell_type": "code",
   "execution_count": 431,
   "metadata": {
    "scrolled": true
   },
   "outputs": [
    {
     "name": "stdout",
     "output_type": "stream",
     "text": [
      "Entities [('Dallas Cowboys', 'ORG'), ('Dallas', 'GPE'), ('Dallas', 'GPE'), ('Dallas Stars', 'ORG')]\n"
     ]
    }
   ],
   "source": [
    "test_doc = nlp_update(\"The Dallas Cowboys are the worst team in Dallas.  The other Dallas team is the Dallas Stars.\")\n",
    "print(\"Entities\", [(ent.text, ent.label_) for ent in test_doc.ents])"
   ]
  },
  {
   "cell_type": "code",
   "execution_count": 432,
   "metadata": {},
   "outputs": [
    {
     "data": {
      "text/plain": [
       "'C:\\\\Users\\\\nickr\\\\Documents\\\\Projects\\\\NLP\\\\spacy'"
      ]
     },
     "execution_count": 432,
     "metadata": {},
     "output_type": "execute_result"
    }
   ],
   "source": [
    "import os\n",
    "os.getcwd()"
   ]
  },
  {
   "cell_type": "code",
   "execution_count": 433,
   "metadata": {},
   "outputs": [],
   "source": [
    "import os \n",
    "\n",
    "# Directory \n",
    "directory = \"content\\\\team_model\"\n",
    "  \n",
    "# Parent Directory path \n",
    "parent_dir = os.getcwd()\n",
    "parent_dir  \n",
    "# Path \n",
    "output_dir = os.path.join(parent_dir, directory) \n",
    "  \n",
    "# Create the directory \n",
    "if not os.path.isdir(output_dir): \n",
    "    os.makedirs(output_dir) "
   ]
  },
  {
   "cell_type": "markdown",
   "metadata": {},
   "source": [
    "### Save the Model"
   ]
  },
  {
   "cell_type": "code",
   "execution_count": 434,
   "metadata": {},
   "outputs": [
    {
     "name": "stdout",
     "output_type": "stream",
     "text": [
      "Saved model to C:\\Users\\nickr\\Documents\\Projects\\NLP\\spacy\\content\\team_model\n"
     ]
    }
   ],
   "source": [
    "# Save the  model to directory\n",
    "# output_dir = './content/team_model'\n",
    "nlp_update.to_disk(output_dir)\n",
    "print(\"Saved model to\", output_dir)"
   ]
  },
  {
   "cell_type": "markdown",
   "metadata": {},
   "source": [
    "### Load and Test New Model"
   ]
  },
  {
   "cell_type": "code",
   "execution_count": 435,
   "metadata": {},
   "outputs": [
    {
     "name": "stdout",
     "output_type": "stream",
     "text": [
      "Loading from C:\\Users\\nickr\\Documents\\Projects\\NLP\\spacy\\content\\team_model\n"
     ]
    }
   ],
   "source": [
    "# Load the saved model and predict\n",
    "print(\"Loading from\", output_dir)\n",
    "nlp_updated = spacy.load(output_dir)\n",
    "doc = nlp_updated(nyg_article)\n"
   ]
  },
  {
   "cell_type": "code",
   "execution_count": 436,
   "metadata": {},
   "outputs": [
    {
     "name": "stdout",
     "output_type": "stream",
     "text": [
      "New York Giants 0 15 ORG\n",
      "Leonard Williams 34 50 PERSON\n",
      "NFL 83 86 ORG\n",
      "NFC 109 112 ORG\n",
      "the Week 133 141 DATE\n",
      "Sunday 166 172 DATE\n",
      "Dallas Cowboys 185 199 ORG\n",
      "Williams 202 210 PERSON\n",
      "three 215 220 CARDINAL\n",
      "five 228 232 CARDINAL\n",
      "three 255 260 CARDINAL\n",
      "six 282 285 CARDINAL\n",
      "Dallas 306 312 GPE\n",
      "Giants 348 354 ORG\n",
      "23 356 358 CARDINAL\n",
      "Williams 372 380 PERSON\n",
      "the Week 414 422 DATE\n",
      "Seattle Seahawks 463 479 ORG\n",
      "six-year 486 494 DATE\n",
      "11.5 517 521 CARDINAL\n",
      "first 533 538 ORDINAL\n",
      "Williams 579 587 PERSON\n",
      "Giant 612 617 ORG\n",
      "Jason Pierre-Paul 624 641 PERSON\n",
      "14.5 646 650 CARDINAL\n",
      "2014 654 658 DATE\n",
      "Giants 665 671 ORG\n",
      "40 697 699 CARDINAL\n",
      "47 742 744 CARDINAL\n",
      "2014 748 752 DATE\n",
      "Dallas Stars 771 783 ORG\n",
      "Williams 786 794 PERSON\n",
      "the 2020 season 835 850 DATE\n",
      "10 950 952 CARDINAL\n",
      "annual 1001 1007 DATE\n",
      "at least $17.5 million 1017 1039 MONEY\n"
     ]
    }
   ],
   "source": [
    "for ent in doc.ents:\n",
    "    print(ent.text, ent.start_char, ent.end_char, ent.label_)"
   ]
  }
 ],
 "metadata": {
  "kernelspec": {
   "display_name": "Python [conda env:spacy_223]",
   "language": "python",
   "name": "conda-env-spacy_223-py"
  },
  "language_info": {
   "codemirror_mode": {
    "name": "ipython",
    "version": 3
   },
   "file_extension": ".py",
   "mimetype": "text/x-python",
   "name": "python",
   "nbconvert_exporter": "python",
   "pygments_lexer": "ipython3",
   "version": "3.8.5"
  }
 },
 "nbformat": 4,
 "nbformat_minor": 4
}
