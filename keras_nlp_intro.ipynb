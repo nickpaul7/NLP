{
 "cells": [
  {
   "cell_type": "markdown",
   "metadata": {},
   "source": [
    "# NLP Intro: Keras\n"
   ]
  },
  {
   "cell_type": "code",
   "execution_count": null,
   "metadata": {},
   "outputs": [],
   "source": [
    "#TODO\n",
    "#determine how to create embeedings"
   ]
  },
  {
   "cell_type": "code",
   "execution_count": 81,
   "metadata": {},
   "outputs": [],
   "source": [
    "from keras.datasets import imdb"
   ]
  },
  {
   "cell_type": "code",
   "execution_count": null,
   "metadata": {},
   "outputs": [],
   "source": [
    "(train_data, train_labels), (test_data, test_labels) = imdb.load_data(num_words = 10000)"
   ]
  },
  {
   "cell_type": "code",
   "execution_count": 94,
   "metadata": {},
   "outputs": [
    {
     "data": {
      "text/plain": [
       "[1,\n",
       " 14,\n",
       " 22,\n",
       " 16,\n",
       " 43,\n",
       " 530,\n",
       " 973,\n",
       " 1622,\n",
       " 1385,\n",
       " 65,\n",
       " 458,\n",
       " 4468,\n",
       " 66,\n",
       " 3941,\n",
       " 4,\n",
       " 173,\n",
       " 36,\n",
       " 256,\n",
       " 5,\n",
       " 25,\n",
       " 100,\n",
       " 43,\n",
       " 838,\n",
       " 112,\n",
       " 50,\n",
       " 670,\n",
       " 2,\n",
       " 9,\n",
       " 35,\n",
       " 480,\n",
       " 284,\n",
       " 5,\n",
       " 150,\n",
       " 4,\n",
       " 172,\n",
       " 112,\n",
       " 167,\n",
       " 2,\n",
       " 336,\n",
       " 385,\n",
       " 39,\n",
       " 4,\n",
       " 172,\n",
       " 4536,\n",
       " 1111,\n",
       " 17,\n",
       " 546,\n",
       " 38,\n",
       " 13,\n",
       " 447,\n",
       " 4,\n",
       " 192,\n",
       " 50,\n",
       " 16,\n",
       " 6,\n",
       " 147,\n",
       " 2025,\n",
       " 19,\n",
       " 14,\n",
       " 22,\n",
       " 4,\n",
       " 1920,\n",
       " 4613,\n",
       " 469,\n",
       " 4,\n",
       " 22,\n",
       " 71,\n",
       " 87,\n",
       " 12,\n",
       " 16,\n",
       " 43,\n",
       " 530,\n",
       " 38,\n",
       " 76,\n",
       " 15,\n",
       " 13,\n",
       " 1247,\n",
       " 4,\n",
       " 22,\n",
       " 17,\n",
       " 515,\n",
       " 17,\n",
       " 12,\n",
       " 16,\n",
       " 626,\n",
       " 18,\n",
       " 2,\n",
       " 5,\n",
       " 62,\n",
       " 386,\n",
       " 12,\n",
       " 8,\n",
       " 316,\n",
       " 8,\n",
       " 106,\n",
       " 5,\n",
       " 4,\n",
       " 2223,\n",
       " 5244,\n",
       " 16,\n",
       " 480,\n",
       " 66,\n",
       " 3785,\n",
       " 33,\n",
       " 4,\n",
       " 130,\n",
       " 12,\n",
       " 16,\n",
       " 38,\n",
       " 619,\n",
       " 5,\n",
       " 25,\n",
       " 124,\n",
       " 51,\n",
       " 36,\n",
       " 135,\n",
       " 48,\n",
       " 25,\n",
       " 1415,\n",
       " 33,\n",
       " 6,\n",
       " 22,\n",
       " 12,\n",
       " 215,\n",
       " 28,\n",
       " 77,\n",
       " 52,\n",
       " 5,\n",
       " 14,\n",
       " 407,\n",
       " 16,\n",
       " 82,\n",
       " 2,\n",
       " 8,\n",
       " 4,\n",
       " 107,\n",
       " 117,\n",
       " 5952,\n",
       " 15,\n",
       " 256,\n",
       " 4,\n",
       " 2,\n",
       " 7,\n",
       " 3766,\n",
       " 5,\n",
       " 723,\n",
       " 36,\n",
       " 71,\n",
       " 43,\n",
       " 530,\n",
       " 476,\n",
       " 26,\n",
       " 400,\n",
       " 317,\n",
       " 46,\n",
       " 7,\n",
       " 4,\n",
       " 2,\n",
       " 1029,\n",
       " 13,\n",
       " 104,\n",
       " 88,\n",
       " 4,\n",
       " 381,\n",
       " 15,\n",
       " 297,\n",
       " 98,\n",
       " 32,\n",
       " 2071,\n",
       " 56,\n",
       " 26,\n",
       " 141,\n",
       " 6,\n",
       " 194,\n",
       " 7486,\n",
       " 18,\n",
       " 4,\n",
       " 226,\n",
       " 22,\n",
       " 21,\n",
       " 134,\n",
       " 476,\n",
       " 26,\n",
       " 480,\n",
       " 5,\n",
       " 144,\n",
       " 30,\n",
       " 5535,\n",
       " 18,\n",
       " 51,\n",
       " 36,\n",
       " 28,\n",
       " 224,\n",
       " 92,\n",
       " 25,\n",
       " 104,\n",
       " 4,\n",
       " 226,\n",
       " 65,\n",
       " 16,\n",
       " 38,\n",
       " 1334,\n",
       " 88,\n",
       " 12,\n",
       " 16,\n",
       " 283,\n",
       " 5,\n",
       " 16,\n",
       " 4472,\n",
       " 113,\n",
       " 103,\n",
       " 32,\n",
       " 15,\n",
       " 16,\n",
       " 5345,\n",
       " 19,\n",
       " 178,\n",
       " 32]"
      ]
     },
     "execution_count": 94,
     "metadata": {},
     "output_type": "execute_result"
    }
   ],
   "source": [
    "train_data[0]"
   ]
  },
  {
   "cell_type": "code",
   "execution_count": 95,
   "metadata": {},
   "outputs": [
    {
     "data": {
      "text/plain": [
       "1"
      ]
     },
     "execution_count": 95,
     "metadata": {},
     "output_type": "execute_result"
    }
   ],
   "source": [
    "train_labels[0]"
   ]
  },
  {
   "cell_type": "markdown",
   "metadata": {},
   "source": [
    "### Word Index"
   ]
  },
  {
   "cell_type": "code",
   "execution_count": 96,
   "metadata": {
    "scrolled": true
   },
   "outputs": [
    {
     "name": "stdout",
     "output_type": "stream",
     "text": [
      "Downloading data from https://storage.googleapis.com/tensorflow/tf-keras-datasets/imdb_word_index.json\n",
      "1646592/1641221 [==============================] - 0s 0us/step\n"
     ]
    }
   ],
   "source": [
    "word_index = imdb.get_word_index()"
   ]
  },
  {
   "cell_type": "code",
   "execution_count": 111,
   "metadata": {},
   "outputs": [
    {
     "data": {
      "text/plain": [
       "1"
      ]
     },
     "execution_count": 111,
     "metadata": {},
     "output_type": "execute_result"
    }
   ],
   "source": [
    "word_index['the']"
   ]
  },
  {
   "cell_type": "code",
   "execution_count": 112,
   "metadata": {},
   "outputs": [],
   "source": [
    "reverse_word_index = dict([(value, key) for (key, value) in word_index.items()])"
   ]
  },
  {
   "cell_type": "code",
   "execution_count": 115,
   "metadata": {},
   "outputs": [
    {
     "data": {
      "text/plain": [
       "\"? this film was just brilliant casting location scenery story direction everyone's really suited the part they played and you could just imagine being there robert ? is an amazing actor and now the same being director ? father came from the same scottish island as myself so i loved the fact there was a real connection with this film the witty remarks throughout the film were great it was just brilliant so much that i bought the film as soon as it was released for ? and would recommend it to everyone to watch and the fly fishing was amazing really cried at the end it was so sad and you know what they say if you cry at a film it must have been good and this definitely was also ? to the two little boy's that played the ? of norman and paul they were just brilliant children are often left out of the ? list i think because the stars that play them all grown up are such a big profile for the whole film but these children are amazing and should be praised for what they have done don't you think the whole story was so lovely because it was true and was someone's life after all that was shared with us all\""
      ]
     },
     "execution_count": 115,
     "metadata": {},
     "output_type": "execute_result"
    }
   ],
   "source": [
    "example = 0\n",
    "decoded_review = ' '.join([reverse_word_index.get(i-3, '?') for i in train_data[example]])\n",
    "decoded_review"
   ]
  },
  {
   "cell_type": "code",
   "execution_count": 114,
   "metadata": {},
   "outputs": [
    {
     "data": {
      "text/plain": [
       "0"
      ]
     },
     "execution_count": 114,
     "metadata": {},
     "output_type": "execute_result"
    }
   ],
   "source": [
    "train_labels[1]"
   ]
  },
  {
   "cell_type": "markdown",
   "metadata": {},
   "source": [
    "### Positive Review"
   ]
  },
  {
   "cell_type": "code",
   "execution_count": 116,
   "metadata": {},
   "outputs": [
    {
     "data": {
      "text/plain": [
       "\"? this film was just brilliant casting location scenery story direction everyone's really suited the part they played and you could just imagine being there robert ? is an amazing actor and now the same being director ? father came from the same scottish island as myself so i loved the fact there was a real connection with this film the witty remarks throughout the film were great it was just brilliant so much that i bought the film as soon as it was released for ? and would recommend it to everyone to watch and the fly fishing was amazing really cried at the end it was so sad and you know what they say if you cry at a film it must have been good and this definitely was also ? to the two little boy's that played the ? of norman and paul they were just brilliant children are often left out of the ? list i think because the stars that play them all grown up are such a big profile for the whole film but these children are amazing and should be praised for what they have done don't you think the whole story was so lovely because it was true and was someone's life after all that was shared with us all\""
      ]
     },
     "execution_count": 116,
     "metadata": {},
     "output_type": "execute_result"
    }
   ],
   "source": [
    "example = 0\n",
    "decoded_review = ' '.join([reverse_word_index.get(i-3, '?') for i in train_data[example]])\n",
    "decoded_review"
   ]
  },
  {
   "cell_type": "markdown",
   "metadata": {},
   "source": [
    "### Negative Review"
   ]
  },
  {
   "cell_type": "code",
   "execution_count": 117,
   "metadata": {},
   "outputs": [
    {
     "data": {
      "text/plain": [
       "\"? big hair big boobs bad music and a giant safety pin these are the words to best describe this terrible movie i love cheesy horror movies and i've seen hundreds but this had got to be on of the worst ever made the plot is paper thin and ridiculous the acting is an abomination the script is completely laughable the best is the end showdown with the cop and how he worked out who the killer is it's just so damn terribly written the clothes are sickening and funny in equal ? the hair is big lots of boobs ? men wear those cut ? shirts that show off their ? sickening that men actually wore them and the music is just ? trash that plays over and over again in almost every scene there is trashy music boobs and ? taking away bodies and the gym still doesn't close for ? all joking aside this is a truly bad film whose only charm is to look back on the disaster that was the 80's and have a good old laugh at how bad everything was back then\""
      ]
     },
     "execution_count": 117,
     "metadata": {},
     "output_type": "execute_result"
    }
   ],
   "source": [
    "example = 1\n",
    "decoded_review = ' '.join([reverse_word_index.get(i-3, '?') for i in train_data[example]])\n",
    "decoded_review"
   ]
  },
  {
   "cell_type": "markdown",
   "metadata": {},
   "source": [
    "### Encode Integer Sequence"
   ]
  },
  {
   "cell_type": "code",
   "execution_count": 124,
   "metadata": {},
   "outputs": [
    {
     "data": {
      "text/plain": [
       "array([0., 1., 1., ..., 0., 0., 0.])"
      ]
     },
     "execution_count": 124,
     "metadata": {},
     "output_type": "execute_result"
    }
   ],
   "source": [
    "import numpy as np\n",
    "\n",
    "def vectorize_sequences(sequences, dimension = 10000):\n",
    "    results = np.zeros((len(sequences), dimension))\n",
    "    for i, sequence in enumerate(sequences):\n",
    "        results[i, sequence] = 1\n",
    "    return results\n",
    "\n",
    "x_train = vectorize_sequences(train_data)\n",
    "x_test = vectorize_sequences(test_data)\n",
    "\n",
    "x_train[0,]\n",
    "\n"
   ]
  },
  {
   "cell_type": "code",
   "execution_count": 125,
   "metadata": {},
   "outputs": [],
   "source": [
    "y_train = np.asarray(train_labels).astype('float32')\n",
    "y_test = np.asarray(test_labels).astype('float32')"
   ]
  },
  {
   "cell_type": "markdown",
   "metadata": {},
   "source": [
    "### The Model Definition"
   ]
  },
  {
   "cell_type": "code",
   "execution_count": 126,
   "metadata": {},
   "outputs": [],
   "source": [
    "from keras import models\n",
    "from keras import layers\n",
    "\n",
    "model = models.Sequential()\n",
    "model.add(layers.Dense(16, activation='relu', input_shape=(10000,)))\n",
    "model.add(layers.Dense(16, activation='relu'))\n",
    "model.add(layers.Dense(1, activation='sigmoid'))\n"
   ]
  },
  {
   "cell_type": "markdown",
   "metadata": {},
   "source": [
    "## Compile the Model"
   ]
  },
  {
   "cell_type": "code",
   "execution_count": 127,
   "metadata": {},
   "outputs": [],
   "source": [
    "model.compile(optimizer='rmsprop',\n",
    "             loss='binary_crossentropy',\n",
    "             metrics=['accuracy'])"
   ]
  },
  {
   "cell_type": "markdown",
   "metadata": {},
   "source": [
    "## Validation Set"
   ]
  },
  {
   "cell_type": "code",
   "execution_count": 128,
   "metadata": {},
   "outputs": [],
   "source": [
    "x_val = x_train[:10000]\n",
    "partial_x_train = x_train[10000:]"
   ]
  },
  {
   "cell_type": "code",
   "execution_count": 130,
   "metadata": {},
   "outputs": [],
   "source": [
    "y_val = y_train[:10000]\n",
    "partial_y_train = y_train[10000:]"
   ]
  },
  {
   "cell_type": "code",
   "execution_count": 132,
   "metadata": {},
   "outputs": [
    {
     "name": "stdout",
     "output_type": "stream",
     "text": [
      "Epoch 1/50\n",
      "30/30 [==============================] - 4s 141ms/step - loss: 0.0042 - accuracy: 0.9990 - val_loss: 0.7274 - val_accuracy: 0.8670\n",
      "Epoch 2/50\n",
      "30/30 [==============================] - 1s 42ms/step - loss: 0.0015 - accuracy: 0.9999 - val_loss: 0.7475 - val_accuracy: 0.8676\n",
      "Epoch 3/50\n",
      "30/30 [==============================] - 1s 24ms/step - loss: 0.0012 - accuracy: 0.9999 - val_loss: 0.7974 - val_accuracy: 0.8639\n",
      "Epoch 4/50\n",
      "30/30 [==============================] - 1s 24ms/step - loss: 0.0027 - accuracy: 0.9994 - val_loss: 0.8192 - val_accuracy: 0.8665\n",
      "Epoch 5/50\n",
      "30/30 [==============================] - 1s 29ms/step - loss: 6.5702e-04 - accuracy: 0.9999 - val_loss: 0.8472 - val_accuracy: 0.8648\n",
      "Epoch 6/50\n",
      "30/30 [==============================] - 1s 27ms/step - loss: 5.1782e-04 - accuracy: 0.9999 - val_loss: 0.9671 - val_accuracy: 0.8577\n",
      "Epoch 7/50\n",
      "30/30 [==============================] - 1s 25ms/step - loss: 6.9001e-04 - accuracy: 0.9999 - val_loss: 0.9296 - val_accuracy: 0.8644\n",
      "Epoch 8/50\n",
      "30/30 [==============================] - 1s 25ms/step - loss: 0.0018 - accuracy: 0.9995 - val_loss: 0.9804 - val_accuracy: 0.8621\n",
      "Epoch 9/50\n",
      "30/30 [==============================] - 1s 29ms/step - loss: 2.2684e-04 - accuracy: 1.0000 - val_loss: 0.9862 - val_accuracy: 0.8635\n",
      "Epoch 10/50\n",
      "30/30 [==============================] - 1s 25ms/step - loss: 1.6157e-04 - accuracy: 1.0000 - val_loss: 1.0094 - val_accuracy: 0.8640\n",
      "Epoch 11/50\n",
      "30/30 [==============================] - 1s 26ms/step - loss: 1.3153e-04 - accuracy: 1.0000 - val_loss: 1.1005 - val_accuracy: 0.8592\n",
      "Epoch 12/50\n",
      "30/30 [==============================] - 1s 33ms/step - loss: 0.0012 - accuracy: 0.9998 - val_loss: 1.0688 - val_accuracy: 0.8626\n",
      "Epoch 13/50\n",
      "30/30 [==============================] - 1s 30ms/step - loss: 7.9539e-05 - accuracy: 1.0000 - val_loss: 1.0976 - val_accuracy: 0.8631\n",
      "Epoch 14/50\n",
      "30/30 [==============================] - 1s 26ms/step - loss: 6.4648e-05 - accuracy: 1.0000 - val_loss: 1.1298 - val_accuracy: 0.8624\n",
      "Epoch 15/50\n",
      "30/30 [==============================] - 1s 25ms/step - loss: 9.0565e-04 - accuracy: 0.9998 - val_loss: 1.1692 - val_accuracy: 0.8641\n",
      "Epoch 16/50\n",
      "30/30 [==============================] - 1s 29ms/step - loss: 3.8698e-05 - accuracy: 1.0000 - val_loss: 1.1885 - val_accuracy: 0.8633\n",
      "Epoch 17/50\n",
      "30/30 [==============================] - 1s 30ms/step - loss: 3.0199e-05 - accuracy: 1.0000 - val_loss: 1.2116 - val_accuracy: 0.8622\n",
      "Epoch 18/50\n",
      "30/30 [==============================] - 1s 28ms/step - loss: 2.3737e-05 - accuracy: 1.0000 - val_loss: 1.2591 - val_accuracy: 0.8620\n",
      "Epoch 19/50\n",
      "30/30 [==============================] - 1s 28ms/step - loss: 4.0177e-04 - accuracy: 0.9999 - val_loss: 1.2912 - val_accuracy: 0.8605\n",
      "Epoch 20/50\n",
      "30/30 [==============================] - 1s 25ms/step - loss: 1.2142e-05 - accuracy: 1.0000 - val_loss: 1.3126 - val_accuracy: 0.8609\n",
      "Epoch 21/50\n",
      "30/30 [==============================] - 1s 26ms/step - loss: 1.0152e-05 - accuracy: 1.0000 - val_loss: 1.3343 - val_accuracy: 0.8610\n",
      "Epoch 22/50\n",
      "30/30 [==============================] - 1s 34ms/step - loss: 8.5721e-06 - accuracy: 1.0000 - val_loss: 1.3556 - val_accuracy: 0.8608\n",
      "Epoch 23/50\n",
      "30/30 [==============================] - 1s 25ms/step - loss: 6.4359e-06 - accuracy: 1.0000 - val_loss: 1.4010 - val_accuracy: 0.8598\n",
      "Epoch 24/50\n",
      "30/30 [==============================] - 1s 24ms/step - loss: 4.1629e-04 - accuracy: 0.9997 - val_loss: 1.4353 - val_accuracy: 0.8604\n",
      "Epoch 25/50\n",
      "30/30 [==============================] - 1s 25ms/step - loss: 3.6524e-06 - accuracy: 1.0000 - val_loss: 1.4421 - val_accuracy: 0.8607\n",
      "Epoch 26/50\n",
      "30/30 [==============================] - 1s 25ms/step - loss: 3.1343e-06 - accuracy: 1.0000 - val_loss: 1.4570 - val_accuracy: 0.8608\n",
      "Epoch 27/50\n",
      "30/30 [==============================] - 1s 25ms/step - loss: 2.7394e-06 - accuracy: 1.0000 - val_loss: 1.4714 - val_accuracy: 0.8606\n",
      "Epoch 28/50\n",
      "30/30 [==============================] - 1s 28ms/step - loss: 2.2722e-06 - accuracy: 1.0000 - val_loss: 1.5010 - val_accuracy: 0.8607\n",
      "Epoch 29/50\n",
      "30/30 [==============================] - 1s 27ms/step - loss: 0.0020 - accuracy: 0.9995 - val_loss: 1.6135 - val_accuracy: 0.8536\n",
      "Epoch 30/50\n",
      "30/30 [==============================] - 1s 26ms/step - loss: 3.6074e-06 - accuracy: 1.0000 - val_loss: 1.5568 - val_accuracy: 0.8582\n",
      "Epoch 31/50\n",
      "30/30 [==============================] - 1s 25ms/step - loss: 1.8490e-06 - accuracy: 1.0000 - val_loss: 1.5577 - val_accuracy: 0.8585\n",
      "Epoch 32/50\n",
      "30/30 [==============================] - 1s 26ms/step - loss: 1.4479e-06 - accuracy: 1.0000 - val_loss: 1.5641 - val_accuracy: 0.8585\n",
      "Epoch 33/50\n",
      "30/30 [==============================] - 1s 28ms/step - loss: 1.1936e-06 - accuracy: 1.0000 - val_loss: 1.5721 - val_accuracy: 0.8588\n",
      "Epoch 34/50\n",
      "30/30 [==============================] - 1s 25ms/step - loss: 9.8107e-07 - accuracy: 1.0000 - val_loss: 1.5953 - val_accuracy: 0.8583\n",
      "Epoch 35/50\n",
      "30/30 [==============================] - 1s 27ms/step - loss: 7.4514e-07 - accuracy: 1.0000 - val_loss: 1.6346 - val_accuracy: 0.8594\n",
      "Epoch 36/50\n",
      "30/30 [==============================] - 1s 26ms/step - loss: 8.7484e-05 - accuracy: 1.0000 - val_loss: 1.6465 - val_accuracy: 0.8594\n",
      "Epoch 37/50\n",
      "30/30 [==============================] - 1s 25ms/step - loss: 5.5772e-07 - accuracy: 1.0000 - val_loss: 1.6566 - val_accuracy: 0.8596\n",
      "Epoch 38/50\n",
      "30/30 [==============================] - 1s 25ms/step - loss: 4.6206e-07 - accuracy: 1.0000 - val_loss: 1.6704 - val_accuracy: 0.8588\n",
      "Epoch 39/50\n",
      "30/30 [==============================] - 1s 25ms/step - loss: 4.0791e-07 - accuracy: 1.0000 - val_loss: 1.6846 - val_accuracy: 0.8595\n",
      "Epoch 40/50\n",
      "30/30 [==============================] - 1s 25ms/step - loss: 3.5006e-07 - accuracy: 1.0000 - val_loss: 1.7073 - val_accuracy: 0.8594\n",
      "Epoch 41/50\n",
      "30/30 [==============================] - 1s 25ms/step - loss: 2.6935e-07 - accuracy: 1.0000 - val_loss: 1.7539 - val_accuracy: 0.8591\n",
      "Epoch 42/50\n",
      "30/30 [==============================] - 1s 25ms/step - loss: 1.7305e-07 - accuracy: 1.0000 - val_loss: 1.8098 - val_accuracy: 0.8600\n",
      "Epoch 43/50\n",
      "30/30 [==============================] - 1s 24ms/step - loss: 1.0273e-07 - accuracy: 1.0000 - val_loss: 1.8733 - val_accuracy: 0.8586\n",
      "Epoch 44/50\n",
      "30/30 [==============================] - 1s 23ms/step - loss: 6.3633e-08 - accuracy: 1.0000 - val_loss: 1.9237 - val_accuracy: 0.8587\n",
      "Epoch 45/50\n",
      "30/30 [==============================] - 1s 24ms/step - loss: 4.3273e-08 - accuracy: 1.0000 - val_loss: 1.9649 - val_accuracy: 0.8601\n",
      "Epoch 46/50\n",
      "30/30 [==============================] - 1s 23ms/step - loss: 3.1711e-08 - accuracy: 1.0000 - val_loss: 1.9988 - val_accuracy: 0.8591\n",
      "Epoch 47/50\n",
      "30/30 [==============================] - 1s 23ms/step - loss: 2.4715e-08 - accuracy: 1.0000 - val_loss: 2.0290 - val_accuracy: 0.8591\n",
      "Epoch 48/50\n",
      "30/30 [==============================] - 1s 24ms/step - loss: 2.0014e-08 - accuracy: 1.0000 - val_loss: 2.0532 - val_accuracy: 0.8592\n",
      "Epoch 49/50\n",
      "30/30 [==============================] - 1s 24ms/step - loss: 1.6616e-08 - accuracy: 1.0000 - val_loss: 2.0771 - val_accuracy: 0.8590\n",
      "Epoch 50/50\n",
      "30/30 [==============================] - 1s 23ms/step - loss: 1.4264e-08 - accuracy: 1.0000 - val_loss: 2.0944 - val_accuracy: 0.8589\n"
     ]
    }
   ],
   "source": [
    "history = model.fit(partial_x_train,\n",
    "                    partial_y_train,\n",
    "                    epochs = 50,\n",
    "                    batch_size=512,\n",
    "                    validation_data=(x_val, y_val))"
   ]
  },
  {
   "cell_type": "code",
   "execution_count": null,
   "metadata": {},
   "outputs": [],
   "source": [
    "#TODO\n",
    "#add history"
   ]
  },
  {
   "cell_type": "code",
   "execution_count": 159,
   "metadata": {},
   "outputs": [
    {
     "data": {
      "text/plain": [
       "array([[1.3755204e-08]], dtype=float32)"
      ]
     },
     "execution_count": 159,
     "metadata": {},
     "output_type": "execute_result"
    }
   ],
   "source": [
    "model.predict(x_test[:1,])"
   ]
  },
  {
   "cell_type": "code",
   "execution_count": 156,
   "metadata": {},
   "outputs": [
    {
     "data": {
      "text/plain": [
       "(1, 10000)"
      ]
     },
     "execution_count": 156,
     "metadata": {},
     "output_type": "execute_result"
    }
   ],
   "source": [
    "x_test[:1,:].shape"
   ]
  }
 ],
 "metadata": {
  "kernelspec": {
   "display_name": "Python 3",
   "language": "python",
   "name": "python3"
  },
  "language_info": {
   "codemirror_mode": {
    "name": "ipython",
    "version": 3
   },
   "file_extension": ".py",
   "mimetype": "text/x-python",
   "name": "python",
   "nbconvert_exporter": "python",
   "pygments_lexer": "ipython3",
   "version": "3.8.3"
  }
 },
 "nbformat": 4,
 "nbformat_minor": 4
}
