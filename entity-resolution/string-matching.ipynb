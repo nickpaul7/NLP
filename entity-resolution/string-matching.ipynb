{
 "cells": [
  {
   "cell_type": "code",
   "execution_count": 59,
   "id": "147fe0b3",
   "metadata": {},
   "outputs": [
    {
     "data": {
      "text/html": [
       "<div>\n",
       "<style scoped>\n",
       "    .dataframe tbody tr th:only-of-type {\n",
       "        vertical-align: middle;\n",
       "    }\n",
       "\n",
       "    .dataframe tbody tr th {\n",
       "        vertical-align: top;\n",
       "    }\n",
       "\n",
       "    .dataframe thead th {\n",
       "        text-align: right;\n",
       "    }\n",
       "</style>\n",
       "<table border=\"1\" class=\"dataframe\">\n",
       "  <thead>\n",
       "    <tr style=\"text-align: right;\">\n",
       "      <th></th>\n",
       "      <th>Line Number</th>\n",
       "      <th>Company Name</th>\n",
       "      <th>Company CIK Key</th>\n",
       "    </tr>\n",
       "  </thead>\n",
       "  <tbody>\n",
       "    <tr>\n",
       "      <th>553935</th>\n",
       "      <td>553936</td>\n",
       "      <td>SOLUM, INC.</td>\n",
       "      <td>1482838</td>\n",
       "    </tr>\n",
       "    <tr>\n",
       "      <th>366583</th>\n",
       "      <td>366584</td>\n",
       "      <td>MACDONALD DETTWILER &amp; ASSOCIATES LTD</td>\n",
       "      <td>1121142</td>\n",
       "    </tr>\n",
       "    <tr>\n",
       "      <th>245924</th>\n",
       "      <td>245925</td>\n",
       "      <td>GOLDMAN SACHS CAPITAL PARTNERS V 1A LP</td>\n",
       "      <td>1360190</td>\n",
       "    </tr>\n",
       "    <tr>\n",
       "      <th>609597</th>\n",
       "      <td>609598</td>\n",
       "      <td>UMD INC</td>\n",
       "      <td>1137455</td>\n",
       "    </tr>\n",
       "    <tr>\n",
       "      <th>69706</th>\n",
       "      <td>69707</td>\n",
       "      <td>BIRAN DAN</td>\n",
       "      <td>1457986</td>\n",
       "    </tr>\n",
       "  </tbody>\n",
       "</table>\n",
       "</div>"
      ],
      "text/plain": [
       "        Line Number                            Company Name  Company CIK Key\n",
       "553935       553936                             SOLUM, INC.          1482838\n",
       "366583       366584    MACDONALD DETTWILER & ASSOCIATES LTD          1121142\n",
       "245924       245925  GOLDMAN SACHS CAPITAL PARTNERS V 1A LP          1360190\n",
       "609597       609598                                 UMD INC          1137455\n",
       "69706         69707                               BIRAN DAN          1457986"
      ]
     },
     "execution_count": 59,
     "metadata": {},
     "output_type": "execute_result"
    }
   ],
   "source": [
    "import pandas as pd\n",
    "df_company_names = pd.read_csv(\"company_names.csv\")\n",
    "df.sample(5)"
   ]
  },
  {
   "cell_type": "code",
   "execution_count": 55,
   "id": "1cb3cd30",
   "metadata": {},
   "outputs": [],
   "source": [
    "def pre_process_text(name, n=3):\n",
    "    \"\"\"\n",
    "    Parameters:\n",
    "        name (str):\n",
    "        n    (int): determines the n-grams (bi-gram, tri-gram, etc). By default, it's tri-gram\n",
    "    \n",
    "    Return:\n",
    "        string with the n-grams\n",
    "    \"\"\"\n",
    "\n",
    "    name = re.sub(r'[,-./]|\\s', r'', name)\n",
    "    name = re.sub(\" +\", \"\", name)\n",
    "    tokens = zip(*[name[i:] for i in range(n)])\n",
    "    processed_text = [''.join(token) for token in tokens]\n",
    "    \n",
    "    \n",
    "    return processed_text"
   ]
  },
  {
   "cell_type": "code",
   "execution_count": 56,
   "id": "e88fbb6f",
   "metadata": {},
   "outputs": [
    {
     "data": {
      "text/plain": [
       "['The', 'heb', 'ebi', 'big', 'igc', 'gco', 'com', 'omp', 'mpa', 'pan', 'any']"
      ]
     },
     "execution_count": 56,
     "metadata": {},
     "output_type": "execute_result"
    }
   ],
   "source": [
    "pre_process_text(\"The big company\")"
   ]
  },
  {
   "cell_type": "code",
   "execution_count": 58,
   "id": "fc7b4e79",
   "metadata": {},
   "outputs": [],
   "source": [
    "from sklearn.feature_extraction.text import TfidfVectorizer\n",
    "tfidf = TfidfVectorizer(min_df=5, analyzer=pre_process_text)\n",
    "v_company_name = tfidf.fit_transform(df_company_names['Company Name'])"
   ]
  },
  {
   "cell_type": "code",
   "execution_count": 70,
   "id": "7892a19b",
   "metadata": {
    "scrolled": true
   },
   "outputs": [
    {
     "data": {
      "text/plain": [
       "array([41525, 41521, 60076, 41520, 41519], dtype=int64)"
      ]
     },
     "execution_count": 70,
     "metadata": {},
     "output_type": "execute_result"
    }
   ],
   "source": [
    "import numpy as np\n",
    "v_input = tfidf.transform([\"MACDONALD DETTWILER\"])\n",
    "v_input\n",
    "result = v_input.dot(v_company_name.T)\n",
    "row_count = result.getnnz()\n",
    "row_count\n",
    "arg_idx = np.argpartition(result.data, -5)[-5:]\n",
    "arg_idx"
   ]
  },
  {
   "cell_type": "code",
   "execution_count": 72,
   "id": "9f8e98cd",
   "metadata": {
    "scrolled": true
   },
   "outputs": [
    {
     "name": "stdout",
     "output_type": "stream",
     "text": [
      "Help on function argpartition in module numpy:\n",
      "\n",
      "argpartition(a, kth, axis=-1, kind='introselect', order=None)\n",
      "    Perform an indirect partition along the given axis using the\n",
      "    algorithm specified by the `kind` keyword. It returns an array of\n",
      "    indices of the same shape as `a` that index data along the given\n",
      "    axis in partitioned order.\n",
      "    \n",
      "    .. versionadded:: 1.8.0\n",
      "    \n",
      "    Parameters\n",
      "    ----------\n",
      "    a : array_like\n",
      "        Array to sort.\n",
      "    kth : int or sequence of ints\n",
      "        Element index to partition by. The k-th element will be in its\n",
      "        final sorted position and all smaller elements will be moved\n",
      "        before it and all larger elements behind it. The order all\n",
      "        elements in the partitions is undefined. If provided with a\n",
      "        sequence of k-th it will partition all of them into their sorted\n",
      "        position at once.\n",
      "    axis : int or None, optional\n",
      "        Axis along which to sort. The default is -1 (the last axis). If\n",
      "        None, the flattened array is used.\n",
      "    kind : {'introselect'}, optional\n",
      "        Selection algorithm. Default is 'introselect'\n",
      "    order : str or list of str, optional\n",
      "        When `a` is an array with fields defined, this argument\n",
      "        specifies which fields to compare first, second, etc. A single\n",
      "        field can be specified as a string, and not all fields need be\n",
      "        specified, but unspecified fields will still be used, in the\n",
      "        order in which they come up in the dtype, to break ties.\n",
      "    \n",
      "    Returns\n",
      "    -------\n",
      "    index_array : ndarray, int\n",
      "        Array of indices that partition `a` along the specified axis.\n",
      "        If `a` is one-dimensional, ``a[index_array]`` yields a partitioned `a`.\n",
      "        More generally, ``np.take_along_axis(a, index_array, axis=a)`` always\n",
      "        yields the partitioned `a`, irrespective of dimensionality.\n",
      "    \n",
      "    See Also\n",
      "    --------\n",
      "    partition : Describes partition algorithms used.\n",
      "    ndarray.partition : Inplace partition.\n",
      "    argsort : Full indirect sort.\n",
      "    take_along_axis : Apply ``index_array`` from argpartition\n",
      "                      to an array as if by calling partition.\n",
      "    \n",
      "    Notes\n",
      "    -----\n",
      "    See `partition` for notes on the different selection algorithms.\n",
      "    \n",
      "    Examples\n",
      "    --------\n",
      "    One dimensional array:\n",
      "    \n",
      "    >>> x = np.array([3, 4, 2, 1])\n",
      "    >>> x[np.argpartition(x, 3)]\n",
      "    array([2, 1, 3, 4])\n",
      "    >>> x[np.argpartition(x, (1, 3))]\n",
      "    array([1, 2, 3, 4])\n",
      "    \n",
      "    >>> x = [3, 4, 2, 1]\n",
      "    >>> np.array(x)[np.argpartition(x, 3)]\n",
      "    array([2, 1, 3, 4])\n",
      "    \n",
      "    Multi-dimensional array:\n",
      "    \n",
      "    >>> x = np.array([[3, 4, 2], [1, 3, 1]])\n",
      "    >>> index_array = np.argpartition(x, kth=1, axis=-1)\n",
      "    >>> np.take_along_axis(x, index_array, axis=-1)  # same as np.partition(x, kth=1)\n",
      "    array([[2, 3, 4],\n",
      "           [1, 1, 3]])\n",
      "\n"
     ]
    }
   ],
   "source": [
    "help(np.argpartition)"
   ]
  },
  {
   "cell_type": "code",
   "execution_count": 78,
   "id": "fa7ad257",
   "metadata": {
    "scrolled": true
   },
   "outputs": [
    {
     "data": {
      "text/plain": [
       "array([366577, 366581, 366583, 366582, 366584], dtype=int32)"
      ]
     },
     "execution_count": 78,
     "metadata": {},
     "output_type": "execute_result"
    }
   ],
   "source": [
    "result.indices[arg_idx]\n"
   ]
  },
  {
   "cell_type": "code",
   "execution_count": 100,
   "id": "92d72a7c",
   "metadata": {},
   "outputs": [],
   "source": [
    "def get_top_n_match(row, n_top=5):\n",
    "    \"\"\"\n",
    "    :param row:\n",
    "    :param n_top: number of results to be determined\n",
    "    :return: list of tuples with index of the match and the cosine similarity score\n",
    "    \"\"\"\n",
    "\n",
    "    row_count = row.getnnz()\n",
    "    if row_count == 0:\n",
    "        return None\n",
    "    elif row_count <= n_top:\n",
    "        result = zip(row.indices, row.data)\n",
    "    else:\n",
    "        arg_idx = np.argpartition(row.data, -n_top)[-n_top:]\n",
    "        result = zip(row.indices[arg_idx], row.data[arg_idx])\n",
    "    return sorted(result, key=(lambda x: -x[1]))\n",
    "\n",
    "\n",
    "def match_company_name(input_name, vectorizer, comp_name_vectors, comp_name_df,n):\n",
    "    \"\"\"\n",
    "    :param input_name: input company name whose matches need to be found\n",
    "    :param vectorizer: TFIDF vectorizer which was initialized earlier\n",
    "    :param comp_name_vectors: the company names' vectors of the whole data set\n",
    "    :param comp_name_df: the company names dataframe\n",
    "    :return: a dataframe with top N matching names with match score\n",
    "    \"\"\"\n",
    "    input_name = input_name.upper()\n",
    "    input_name_vector = vectorizer.transform([input_name])\n",
    "    result_vector = input_name_vector.dot(comp_name_vectors.T)\n",
    "    matched_data = [get_top_n_match(row,n) for row in result_vector]\n",
    "    flat_matched_data = [tup for data_row in matched_data for tup in data_row]\n",
    "    lkp_idx, lkp_sim = zip(*flat_matched_data)\n",
    "    nr_matches = len(lkp_idx)\n",
    "    matched_names = np.empty([nr_matches], dtype=object)\n",
    "    sim = np.zeros(nr_matches)\n",
    "    for i in range(nr_matches):\n",
    "        matched_names[i] = comp_name_df['Company Name'][lkp_idx[i]]\n",
    "        sim[i] = lkp_sim[i]\n",
    "    return pd.DataFrame({\"Matching company name\": matched_names,\n",
    "                         \"Match Score (%)\": sim*100})\n"
   ]
  },
  {
   "cell_type": "code",
   "execution_count": 104,
   "id": "8065e0fa",
   "metadata": {},
   "outputs": [
    {
     "name": "stdout",
     "output_type": "stream",
     "text": [
      "                 Matching company name  Match Score (%)\n",
      "0              WAYPOINT FINANCIAL CORP        83.732844\n",
      "1                       WAYPOINT I LLC        66.430100\n",
      "2  WAYPOINT FIRST STREET INVESTORS, LP        58.123844\n",
      "3                 WAYPOINT PARTNERS LP        57.755806\n",
      "4                WAYPOINT MEDICAL, LLC        54.910641\n",
      "5             WAYPOINT SECURITIES, LLC        54.169780\n",
      "6              ONE POINT FINANCIAL LLC        53.824748\n",
      "7               WAYPOINT ADVISORS, LLC        53.429341\n",
      "8             DANA POINT FINANCIAL INC        52.641196\n",
      "9             OLD POINT FINANCIAL CORP        52.245995\n"
     ]
    }
   ],
   "source": [
    "result_df = match_company_name(\"WAYPOINT FINAN\", tfidf, v_company_name, \n",
    "                               df_company_names,n = 10)\n",
    "print(result_df)"
   ]
  }
 ],
 "metadata": {
  "kernelspec": {
   "display_name": "Python 3",
   "language": "python",
   "name": "python3"
  },
  "language_info": {
   "codemirror_mode": {
    "name": "ipython",
    "version": 3
   },
   "file_extension": ".py",
   "mimetype": "text/x-python",
   "name": "python",
   "nbconvert_exporter": "python",
   "pygments_lexer": "ipython3",
   "version": "3.9.4"
  }
 },
 "nbformat": 4,
 "nbformat_minor": 5
}
